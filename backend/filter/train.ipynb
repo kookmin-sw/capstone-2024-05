{
 "cells": [
  {
   "cell_type": "code",
   "execution_count": null,
   "metadata": {},
   "outputs": [],
   "source": [
    "from transformers import Trainer, TrainingArguments, AutoModelForSequenceClassification\n",
    "from data_preprocessing import Autodata\n",
    "from datasets import concatenate_datasets\n",
    "from sklearn.model_selection import train_test_split\n",
    "from dataloader import CustomDataset\n",
    "from utils import compute_metrics"
   ]
  },
  {
   "cell_type": "code",
   "execution_count": null,
   "metadata": {},
   "outputs": [],
   "source": [
    "model_name = \"monologg/koelectra-small-v3-discriminator\"\n",
    "data = Autodata(\"./data\")\n",
    "cfn_question = data.concat_dataset[\"question\"]\n",
    "normal_instruction_question = data.load_instruction_dataset(\"nlpai-lab/kullm-v2\")"
   ]
  },
  {
   "cell_type": "code",
   "execution_count": 10,
   "metadata": {},
   "outputs": [],
   "source": [
    "normal_instruction_question = normal_instruction_question[:1000]"
   ]
  },
  {
   "cell_type": "code",
   "execution_count": null,
   "metadata": {},
   "outputs": [],
   "source": [
    "cfn_data = data.label_indexing(cfn_question, state=0)\n",
    "normal_instruction_data = data.label_indexing(normal_instruction_question, state=1)\n",
    "\n",
    "total_data = concatenate_datasets([cfn_data, normal_instruction_data])\n",
    "train_dataset, val_dataset = train_test_split(\n",
    "    total_data, test_size=0.2, random_state=42\n",
    ")"
   ]
  },
  {
   "cell_type": "code",
   "execution_count": null,
   "metadata": {},
   "outputs": [],
   "source": [
    "train_data = CustomDataset(\n",
    "    data_file=train_dataset,\n",
    "    model_name=model_name,\n",
    "    text_columns=\"question\",\n",
    "    target_columns=\"target\",\n",
    "    max_length=256,\n",
    "    state=\"train\",\n",
    ")\n",
    "\n",
    "val_data = CustomDataset(\n",
    "    data_file=val_dataset,\n",
    "    model_name=model_name,\n",
    "    text_columns=\"question\",\n",
    "    target_columns=\"target\",\n",
    "    max_length=256,\n",
    "    state=\"train\",\n",
    ")"
   ]
  },
  {
   "cell_type": "code",
   "execution_count": null,
   "metadata": {},
   "outputs": [],
   "source": [
    "model = AutoModelForSequenceClassification.from_pretrained(\n",
    "    model_name, num_labels=2, ignore_mismatched_sizes=True\n",
    ")"
   ]
  },
  {
   "cell_type": "code",
   "execution_count": null,
   "metadata": {},
   "outputs": [],
   "source": [
    "args = TrainingArguments(\n",
    "    output_dir=\"output_dir\",\n",
    "    evaluation_strategy=\"epoch\",\n",
    "    save_strategy=\"epoch\",\n",
    "    learning_rate=1e-5,\n",
    "    per_device_train_batch_size=64,\n",
    "    per_device_eval_batch_size=64,\n",
    "    num_train_epochs=10,\n",
    "    weight_decay=0.01,\n",
    "    load_best_model_at_end=True,\n",
    "    dataloader_num_workers=4,\n",
    "    logging_steps=50,\n",
    "    seed=42,\n",
    "    group_by_length=True,\n",
    ")\n",
    "\n",
    "trainer = Trainer(\n",
    "    model=model,\n",
    "    args=args,\n",
    "    train_dataset=train_data,\n",
    "    eval_dataset=val_data,\n",
    "    compute_metrics=compute_metrics,\n",
    ")\n",
    "\n",
    "trainer.train()"
   ]
  }
 ],
 "metadata": {
  "kernelspec": {
   "display_name": "cfn-llm",
   "language": "python",
   "name": "python3"
  },
  "language_info": {
   "codemirror_mode": {
    "name": "ipython",
    "version": 3
   },
   "file_extension": ".py",
   "mimetype": "text/x-python",
   "name": "python",
   "nbconvert_exporter": "python",
   "pygments_lexer": "ipython3",
   "version": "3.10.13"
  }
 },
 "nbformat": 4,
 "nbformat_minor": 2
}
