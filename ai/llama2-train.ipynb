{
 "cells": [
  {
   "cell_type": "code",
   "execution_count": null,
   "id": "62a56587-bc2a-4114-a275-dd8534cb6606",
   "metadata": {
    "tags": []
   },
   "outputs": [],
   "source": [
    "!pip install torchvision datasets peft trl bitsandbytes accelerate"
   ]
  },
  {
   "cell_type": "code",
   "execution_count": null,
   "id": "f4941954-9981-435d-8d78-6d80abba1242",
   "metadata": {
    "tags": []
   },
   "outputs": [],
   "source": [
    "import os\n",
    "import torch\n",
    "from datasets import load_dataset\n",
    "from transformers import (\n",
    "    AutoModelForCausalLM,\n",
    "    AutoTokenizer,\n",
    "    BitsAndBytesConfig,\n",
    "    HfArgumentParser, \n",
    "    TrainingArguments, \n",
    "    pipeline, \n",
    "    logging,\n",
    ")\n",
    "\n",
    "from peft import LoraConfig, PeftModel\n",
    "from trl import SFTTrainer"
   ]
  },
  {
   "cell_type": "code",
   "execution_count": null,
   "id": "ada714c5-b916-42e2-b22e-2762599f549d",
   "metadata": {
    "tags": []
   },
   "outputs": [],
   "source": [
    "base_model = \"beomi/llama-2-ko-7b\"\n",
    "new_model = \"llama-2-7b-cloudformation-v5-2\" "
   ]
  },
  {
   "cell_type": "code",
   "execution_count": null,
   "id": "0627e92c-43a3-4b14-b806-8bb381532d49",
   "metadata": {
    "tags": []
   },
   "outputs": [],
   "source": [
    "# LoRA param\n",
    "lora_r = 64   \n",
    "lora_alpha = 16  \n",
    "lora_dropout = 0.1"
   ]
  },
  {
   "cell_type": "code",
   "execution_count": null,
   "id": "97209a72-2bb6-4da5-93aa-2284a522a841",
   "metadata": {
    "tags": []
   },
   "outputs": [],
   "source": [
    "# 4-bit precision\n",
    "use_4bit = True \n",
    "bnb_4bit_compute_dtype = \"float16\" \n",
    "bnb_4bit_quant_type = \"nf4\" \n",
    "use_nested_quant = False "
   ]
  },
  {
   "cell_type": "code",
   "execution_count": null,
   "id": "987d61a3-1f3b-4b0e-888d-294836fcf1c8",
   "metadata": {
    "tags": []
   },
   "outputs": [],
   "source": [
    "# training param\n",
    "output_dir = \"./results\" \n",
    "num_train_epochs = 30\n",
    "fp16 = False   \n",
    "bf16 = True   \n",
    "per_device_train_batch_size = 1 \n",
    "per_device_eval_batch_size = 1  \n",
    "gradient_accumulation_steps = 8\n",
    "gradient_checkpointing = True  \n",
    "max_grad_norm = 0.3  \n",
    "# learning_rate = 2e-6 \n",
    "weight_decay = 0.001 \n",
    "optim = \"paged_adamw_32bit\"  \n",
    "lr_scheduler_type = \"cosine\"   \n",
    "max_steps = -1 \n",
    "warmup_ratio = 0.03  \n",
    "group_by_length = True   \n",
    "save_steps = 0  \n",
    "logging_steps = 1"
   ]
  },
  {
   "cell_type": "code",
   "execution_count": null,
   "id": "2949a529-e882-463a-8cfa-c973c2a27a95",
   "metadata": {
    "tags": []
   },
   "outputs": [],
   "source": [
    "max_seq_length = 1500\n",
    "packing = False  \n",
    "device_map = {\"\": 0}  "
   ]
  },
  {
   "cell_type": "code",
   "execution_count": null,
   "id": "8f8242bb-b77a-4ece-aa54-0c5558d1bd2f",
   "metadata": {
    "tags": []
   },
   "outputs": [],
   "source": [
    "compute_dtype = getattr(torch, bnb_4bit_compute_dtype)\n",
    "bnb_config = BitsAndBytesConfig(\n",
    "    load_in_4bit=use_4bit,\n",
    "    bnb_4bit_quant_type=bnb_4bit_quant_type,\n",
    "    bnb_4bit_compute_dtype=compute_dtype,\n",
    "    bnb_4bit_use_double_quant=use_nested_quant,\n",
    ")"
   ]
  },
  {
   "cell_type": "code",
   "execution_count": null,
   "id": "383bacc5-1230-4614-b9e3-1bd86bd508be",
   "metadata": {
    "tags": []
   },
   "outputs": [],
   "source": [
    "data_list = os.listdir(\"./final5\")\n",
    "file_path = []\n",
    "for i in data_list:\n",
    "    file_path.append(\"./final5/\" + i)\n",
    "    \n",
    "dataset = load_dataset(\"text\", data_files=file_path)"
   ]
  },
  {
   "cell_type": "code",
   "execution_count": null,
   "id": "5aa4a2b8-2eb7-4a09-9f88-3272abb813ba",
   "metadata": {},
   "outputs": [],
   "source": [
    "# Load base model\n",
    "model = AutoModelForCausalLM.from_pretrained(\n",
    "    base_model,\n",
    "    quantization_config=bnb_config,\n",
    "    device_map=device_map\n",
    ")\n",
    "model.config.use_cache = False\n",
    "model.config.pretraining_tp = 1\n",
    "tokenizer = AutoTokenizer.from_pretrained(base_model, trust_remote_code=True)\n",
    "tokenizer.add_special_tokens = False\n",
    "tokenizer.pad_token = tokenizer.eos_token\n",
    "tokenizer.padding_side = \"right\""
   ]
  },
  {
   "cell_type": "code",
   "execution_count": null,
   "id": "ae8b4325-5a89-4133-9555-4501b075f049",
   "metadata": {
    "tags": []
   },
   "outputs": [],
   "source": [
    "# Load LoRA configuration\n",
    "peft_config = LoraConfig(\n",
    "    lora_alpha=lora_alpha,\n",
    "    lora_dropout=lora_dropout,\n",
    "    r=lora_r,\n",
    "    bias=\"none\",\n",
    "    task_type=\"CAUSAL_LM\",\n",
    ")\n",
    "\n",
    "# Set training parameters\n",
    "training_arguments = TrainingArguments(\n",
    "    output_dir=output_dir,\n",
    "    num_train_epochs=num_train_epochs,\n",
    "    per_device_train_batch_size=per_device_train_batch_size,\n",
    "    gradient_accumulation_steps=gradient_accumulation_steps,\n",
    "    optim=optim,\n",
    "    save_steps=save_steps,\n",
    "    logging_steps=logging_steps,\n",
    "    # learning_rate=learning_rate,\n",
    "    weight_decay=weight_decay,\n",
    "    fp16=fp16,\n",
    "    bf16=bf16,\n",
    "    max_grad_norm=max_grad_norm,\n",
    "    max_steps=max_steps,\n",
    "    warmup_ratio=warmup_ratio,\n",
    "    group_by_length=group_by_length,\n",
    "    lr_scheduler_type=lr_scheduler_type,\n",
    "    report_to=\"tensorboard\"\n",
    ")\n",
    "\n",
    "# Set supervised fine-tuning parameters\n",
    "trainer = SFTTrainer(\n",
    "    model=model,\n",
    "    train_dataset=dataset[\"train\"],\n",
    "    peft_config=peft_config,\n",
    "    dataset_text_field=\"text\",\n",
    "    max_seq_length=max_seq_length,\n",
    "    tokenizer=tokenizer,\n",
    "    args=training_arguments,\n",
    "    packing=packing,\n",
    ")"
   ]
  },
  {
   "cell_type": "code",
   "execution_count": null,
   "id": "070553a2-b597-4448-895b-5e597e8dcee1",
   "metadata": {
    "tags": []
   },
   "outputs": [],
   "source": [
    "trainer.train()"
   ]
  },
  {
   "cell_type": "code",
   "execution_count": null,
   "id": "8763bff7-3be6-46b8-b2d9-7d406c91e498",
   "metadata": {},
   "outputs": [],
   "source": [
    "trainer.model.save_pretrained(new_model) "
   ]
  },
  {
   "cell_type": "code",
   "execution_count": null,
   "id": "2bc42acd-7e82-4290-bffb-1b42fd36d92e",
   "metadata": {},
   "outputs": [],
   "source": [
    "base_model = AutoModelForCausalLM.from_pretrained(\n",
    "    base_model,\n",
    "    low_cpu_mem_usage=True,\n",
    "    return_dict=True,\n",
    "    torch_dtype=torch.float16,\n",
    "    device_map=device_map\n",
    ")"
   ]
  },
  {
   "cell_type": "code",
   "execution_count": null,
   "id": "2e7b8f8b-a2ea-4ce5-9069-e8bd0e53463d",
   "metadata": {
    "tags": []
   },
   "outputs": [],
   "source": [
    "model = PeftModel.from_pretrained(base_model, \"llama-2-7b-cloudformation-v6\")\n",
    "model = model.merge_and_unload()\n",
    "tokenizer = AutoTokenizer.from_pretrained(\"beomi/llama-2-ko-7b\", trust_remote_code=True)\n",
    "tokenizer.pad_token = tokenizer.eos_token  \n",
    "tokenizer.padding_side = \"right\"  "
   ]
  },
  {
   "cell_type": "code",
   "execution_count": null,
   "id": "c3161c1b-a1c5-4c08-a3f5-e283a8a0cbb2",
   "metadata": {
    "tags": []
   },
   "outputs": [],
   "source": [
    "from huggingface_hub import interpreter_login\n",
    "\n",
    "interpreter_login()"
   ]
  },
  {
   "cell_type": "code",
   "execution_count": null,
   "id": "48bf004e-f284-431e-8cfd-bb8927d7cbea",
   "metadata": {
    "tags": []
   },
   "outputs": [],
   "source": [
    "model.push_to_hub(\"winF/llama-2-7b-cloudformation\", use_temp_dir=False)\n",
    "tokenizer.push_to_hub(\"winF/llama-2-7b-cloudformation\", use_temp_dir=False)"
   ]
  }
 ],
 "metadata": {
  "kernelspec": {
   "display_name": "Python 3.10",
   "language": "python",
   "name": "python3"
  },
  "language_info": {
   "codemirror_mode": {
    "name": "ipython",
    "version": 3
   },
   "file_extension": ".py",
   "mimetype": "text/x-python",
   "name": "python",
   "nbconvert_exporter": "python",
   "pygments_lexer": "ipython3",
   "version": "3.10.12"
  }
 },
 "nbformat": 4,
 "nbformat_minor": 5
}
